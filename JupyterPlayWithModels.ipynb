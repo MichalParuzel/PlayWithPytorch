{
 "cells": [
  {
   "cell_type": "code",
   "execution_count": 2,
   "id": "logical-blair",
   "metadata": {},
   "outputs": [],
   "source": [
    "import  TrainingRunner\n",
    "import torch.nn as nn"
   ]
  },
  {
   "cell_type": "code",
   "execution_count": null,
   "id": "behavioral-czech",
   "metadata": {},
   "outputs": [],
   "source": [
    "path = r\"..\\Datasets\\Animals-10\"\n",
    "loss_function = nn.CrossEntropyLoss()\n",
    "TrainingRunner.data_preparation(path, loss_function, batch_size=1, shuffle=True, num_workers=4, pretrained=True, fully_connected_layer_size=10, num_epochs=1)"
   ]
  }
 ],
 "metadata": {
  "kernelspec": {
   "display_name": "Python 3",
   "language": "python",
   "name": "python3"
  },
  "language_info": {
   "codemirror_mode": {
    "name": "ipython",
    "version": 3
   },
   "file_extension": ".py",
   "mimetype": "text/x-python",
   "name": "python",
   "nbconvert_exporter": "python",
   "pygments_lexer": "ipython3",
   "version": "3.8.5"
  }
 },
 "nbformat": 4,
 "nbformat_minor": 5
}
